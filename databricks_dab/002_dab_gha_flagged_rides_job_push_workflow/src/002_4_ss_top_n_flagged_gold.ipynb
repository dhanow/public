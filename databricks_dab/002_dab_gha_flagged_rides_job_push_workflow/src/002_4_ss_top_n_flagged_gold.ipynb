{
 "cells": [
  {
   "cell_type": "markdown",
   "metadata": {
    "application/vnd.databricks.v1+cell": {
     "cellMetadata": {},
     "inputWidgets": {},
     "nuid": "cc3b96dd-631c-4098-a17e-e3151c2a9f6d",
     "showTitle": false,
     "tableResultSettingsMap": {},
     "title": ""
    }
   },
   "source": [
    "# Task to create top n (gold)"
   ]
  },
  {
   "cell_type": "code",
   "execution_count": 0,
   "metadata": {
    "application/vnd.databricks.v1+cell": {
     "cellMetadata": {},
     "inputWidgets": {},
     "nuid": "e56af212-cf99-4e5d-ad81-dbd3f40f2c57",
     "showTitle": false,
     "tableResultSettingsMap": {},
     "title": ""
    }
   },
   "outputs": [],
   "source": [
    "catalog = dbutils.widgets.get(\"catalog\")\n",
    "schema = dbutils.widgets.get(\"schema\")\n",
    "gold_tbl = f\"{catalog}.{schema}.ss_top_n_gold\""
   ]
  },
  {
   "cell_type": "code",
   "execution_count": 0,
   "metadata": {
    "application/vnd.databricks.v1+cell": {
     "cellMetadata": {
      "byteLimit": 2048000,
      "rowLimit": 10000
     },
     "inputWidgets": {},
     "nuid": "1bf3c0ab-ac79-49b9-ac52-5b1e39186776",
     "showTitle": false,
     "tableResultSettingsMap": {},
     "title": ""
    }
   },
   "outputs": [],
   "source": [
    "from pyspark.sql.functions import *\n",
    "\n",
    "flagged_rides_df = spark.read.table(f\"{catalog}.{schema}.ss_flagged_rides_silver1\")\n",
    "weekly_stats_df = spark.read.table(f\"{catalog}.{schema}.ss_weekly_stats_silver2\")\n",
    "\n",
    "(flagged_rides_df.join(weekly_stats_df, \"week\")\n",
    " .orderBy(desc(\"fare_amount\"))\n",
    " .limit(3)\n",
    " .write\n",
    " .mode(\"overwrite\")\n",
    " .saveAsTable(gold_tbl)\n",
    ")"
   ]
  }
 ],
 "metadata": {
  "application/vnd.databricks.v1+notebook": {
   "computePreferences": null,
   "dashboards": [],
   "environmentMetadata": {
    "base_environment": "",
    "environment_version": "2"
   },
   "language": "python",
   "notebookMetadata": {
    "mostRecentlyExecutedCommandWithImplicitDF": {
     "commandId": 2782813970706882,
     "dataframes": [
      "_sqldf"
     ]
    },
    "pythonIndentUnit": 4
   },
   "notebookName": "002_4_ss_top_n_gold",
   "widgets": {}
  },
  "language_info": {
   "name": "python"
  }
 },
 "nbformat": 4,
 "nbformat_minor": 0
}
