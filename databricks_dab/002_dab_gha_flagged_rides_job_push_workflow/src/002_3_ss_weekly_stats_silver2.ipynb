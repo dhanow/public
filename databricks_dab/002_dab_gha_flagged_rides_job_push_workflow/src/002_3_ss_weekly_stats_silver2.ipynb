{
 "cells": [
  {
   "cell_type": "markdown",
   "metadata": {
    "application/vnd.databricks.v1+cell": {
     "cellMetadata": {},
     "inputWidgets": {},
     "nuid": "cc3b96dd-631c-4098-a17e-e3151c2a9f6d",
     "showTitle": false,
     "tableResultSettingsMap": {},
     "title": ""
    }
   },
   "source": [
    "# Task to create weekly stats (silver2)"
   ]
  },
  {
   "cell_type": "code",
   "execution_count": 0,
   "metadata": {
    "application/vnd.databricks.v1+cell": {
     "cellMetadata": {},
     "inputWidgets": {},
     "nuid": "bca0d624-1d18-4ab2-a410-34f97deba281",
     "showTitle": false,
     "tableResultSettingsMap": {},
     "title": ""
    }
   },
   "outputs": [],
   "source": [
    "catalog = dbutils.widgets.get(\"catalog\")\n",
    "schema = dbutils.widgets.get(\"schema\")\n",
    "bronze_tbl = f\"{catalog}.{schema}.ss_taxi_raw_records_bronze\"\n",
    "silver_tbl_2 = f\"{catalog}.{schema}.ss_weekly_stats_silver2\""
   ]
  },
  {
   "cell_type": "code",
   "execution_count": 0,
   "metadata": {
    "application/vnd.databricks.v1+cell": {
     "cellMetadata": {},
     "inputWidgets": {},
     "nuid": "c37bd91b-0b54-423f-b50c-757fa057b15d",
     "showTitle": false,
     "tableResultSettingsMap": {},
     "title": ""
    }
   },
   "outputs": [],
   "source": [
    "# location to store checkpoint files\n",
    "# spark.sql(f\"create volume if not exists {catalog}.{schema}.checkpoint_files\")\n",
    "checkpoint_path = f\"/Volumes/{catalog}/{schema}/checkpoint_files/top_n/ss_weekly_stats_silver2_checkpoint\""
   ]
  },
  {
   "cell_type": "code",
   "execution_count": 0,
   "metadata": {
    "application/vnd.databricks.v1+cell": {
     "cellMetadata": {
      "byteLimit": 2048000,
      "rowLimit": 10000
     },
     "inputWidgets": {},
     "nuid": "1bf3c0ab-ac79-49b9-ac52-5b1e39186776",
     "showTitle": false,
     "tableResultSettingsMap": {},
     "title": ""
    }
   },
   "outputs": [],
   "source": [
    "from pyspark.sql.functions import *\n",
    "\n",
    "streamdf = (spark.readStream.table(bronze_tbl)\n",
    " .filter(((col(\"pickup_zip\") == col(\"dropoff_zip\")) & (col(\"fare_amount\") > 50)) |\n",
    "         ((col(\"trip_distance\") < 5) & (col(\"fare_amount\") > 50))\n",
    "         )\n",
    " .select(date_trunc(\"week\", col(\"tpep_pickup_datetime\")).alias(\"week\"),\n",
    "          col(\"fare_amount\"),\n",
    "          col(\"trip_distance\"))\n",
    " .groupby(\"week\")\n",
    " .agg(avg(\"fare_amount\").alias(\"avg_amount\"), avg(\"trip_distance\").alias(\"avg_distance\"))\n",
    " .orderBy(asc(\"week\"))\n",
    " .writeStream\n",
    " .outputMode(\"complete\")\n",
    " .option(\"checkpointLocation\", checkpoint_path)\n",
    " .trigger(availableNow=True)\n",
    " .toTable(silver_tbl_2)\n",
    ")\n",
    "\n",
    "streamdf.awaitTermination()"
   ]
  }
 ],
 "metadata": {
  "application/vnd.databricks.v1+notebook": {
   "computePreferences": null,
   "dashboards": [],
   "environmentMetadata": {
    "base_environment": "",
    "environment_version": "2"
   },
   "language": "python",
   "notebookMetadata": {
    "mostRecentlyExecutedCommandWithImplicitDF": {
     "commandId": 2782813970706882,
     "dataframes": [
      "_sqldf"
     ]
    },
    "pythonIndentUnit": 4
   },
   "notebookName": "002_3_ss_weekly_stats_silver2",
   "widgets": {}
  },
  "language_info": {
   "name": "python"
  }
 },
 "nbformat": 4,
 "nbformat_minor": 0
}
