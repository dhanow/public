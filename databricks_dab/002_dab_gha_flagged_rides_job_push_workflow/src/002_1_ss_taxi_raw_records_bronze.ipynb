{
 "cells": [
  {
   "cell_type": "markdown",
   "metadata": {
    "application/vnd.databricks.v1+cell": {
     "cellMetadata": {},
     "inputWidgets": {},
     "nuid": "cc3b96dd-631c-4098-a17e-e3151c2a9f6d",
     "showTitle": false,
     "tableResultSettingsMap": {},
     "title": ""
    }
   },
   "source": [
    "# Task to create the taxi raw records (bronze)"
   ]
  },
  {
   "cell_type": "code",
   "execution_count": 0,
   "metadata": {
    "application/vnd.databricks.v1+cell": {
     "cellMetadata": {},
     "inputWidgets": {},
     "nuid": "ae09bd2f-3193-46c7-b8c8-07fb39e35ebf",
     "showTitle": false,
     "tableResultSettingsMap": {},
     "title": ""
    }
   },
   "outputs": [],
   "source": [
    "catalog = dbutils.widgets.get(\"catalog\")\n",
    "schema = dbutils.widgets.get(\"schema\")\n",
    "bronze_tbl = f\"{catalog}.{schema}.gha_ss_taxi_raw_records_bronze\""
   ]
  },
  {
   "cell_type": "code",
   "execution_count": 0,
   "metadata": {
    "application/vnd.databricks.v1+cell": {
     "cellMetadata": {
      "byteLimit": 2048000,
      "implicitDf": true,
      "rowLimit": 10000
     },
     "inputWidgets": {},
     "nuid": "c9295b3b-890b-4bf1-b828-3b233cfbf27d",
     "showTitle": false,
     "tableResultSettingsMap": {},
     "title": ""
    }
   },
   "outputs": [],
   "source": [
    "# location to store checkpoint files\n",
    "spark.sql(f\"create volume if not exists {catalog}.{schema}.checkpoint_files\")\n",
    "checkpoint_path = f\"/Volumes/{catalog}/{schema}/checkpoint_files/top_n/gha_ss_taxi_raw_records_bronze_checkpoint\""
   ]
  },
  {
   "cell_type": "code",
   "execution_count": 0,
   "metadata": {
    "application/vnd.databricks.v1+cell": {
     "cellMetadata": {},
     "inputWidgets": {},
     "nuid": "6cb87058-f73d-42b0-b35a-4ee29e2b4f63",
     "showTitle": false,
     "tableResultSettingsMap": {},
     "title": ""
    }
   },
   "outputs": [],
   "source": [
    "from pyspark.sql.functions import *\n",
    "\n",
    "streamdf = (spark.readStream.table(\"samples.nyctaxi.trips\")\n",
    " .filter(col(\"trip_distance\") > 0.0)\n",
    " .writeStream\n",
    " .outputMode(\"append\")\n",
    " .option(\"checkpointLocation\", checkpoint_path)\n",
    " .trigger(availableNow=True)\n",
    " .toTable(bronze_tbl)\n",
    ")\n",
    "\n",
    "streamdf.awaitTermination()"
   ]
  }
 ],
 "metadata": {
  "application/vnd.databricks.v1+notebook": {
   "computePreferences": null,
   "dashboards": [],
   "environmentMetadata": {
    "base_environment": "",
    "environment_version": "2"
   },
   "language": "python",
   "notebookMetadata": {
    "mostRecentlyExecutedCommandWithImplicitDF": {
     "commandId": 2782813970706882,
     "dataframes": [
      "_sqldf"
     ]
    },
    "pythonIndentUnit": 4
   },
   "notebookName": "002_1_ss_taxi_raw_records_bronze",
   "widgets": {}
  },
  "language_info": {
   "name": "python"
  }
 },
 "nbformat": 4,
 "nbformat_minor": 0
}
